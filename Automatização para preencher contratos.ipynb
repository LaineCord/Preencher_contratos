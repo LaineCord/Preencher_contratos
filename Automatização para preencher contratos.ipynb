{
 "cells": [
  {
   "cell_type": "code",
   "execution_count": 1,
   "id": "ec7745e2",
   "metadata": {},
   "outputs": [],
   "source": [
    "from pathlib import Path\n",
    "from docxtpl import DocxTemplate\n",
    "import pandas as pd"
   ]
  },
  {
   "cell_type": "code",
   "execution_count": null,
   "id": "e430c968",
   "metadata": {},
   "outputs": [
    {
     "name": "stdout",
     "output_type": "stream",
     "text": [
      "Contrato salvo em: C:\\Users\\Elaine\\Documents\\Python Scripts\\Automatizar Base Word\\Contratos Gerados\\thor_contrato.docx\n",
      "Contrato salvo em: C:\\Users\\Elaine\\Documents\\Python Scripts\\Automatizar Base Word\\Contratos Gerados\\belinha_contrato.docx\n",
      "Contrato salvo em: C:\\Users\\Elaine\\Documents\\Python Scripts\\Automatizar Base Word\\Contratos Gerados\\fred_contrato.docx\n",
      "Contrato salvo em: C:\\Users\\Elaine\\Documents\\Python Scripts\\Automatizar Base Word\\Contratos Gerados\\luna_contrato.docx\n",
      "Contrato salvo em: C:\\Users\\Elaine\\Documents\\Python Scripts\\Automatizar Base Word\\Contratos Gerados\\mel_contrato.docx\n",
      "Contrato salvo em: C:\\Users\\Elaine\\Documents\\Python Scripts\\Automatizar Base Word\\Contratos Gerados\\pulga_contrato.docx\n",
      "Contrato salvo em: C:\\Users\\Elaine\\Documents\\Python Scripts\\Automatizar Base Word\\Contratos Gerados\\toby_contrato.docx\n",
      "Contrato salvo em: C:\\Users\\Elaine\\Documents\\Python Scripts\\Automatizar Base Word\\Contratos Gerados\\snow_contrato.docx\n",
      "Contrato salvo em: C:\\Users\\Elaine\\Documents\\Python Scripts\\Automatizar Base Word\\Contratos Gerados\\spike_contrato.docx\n",
      "Contrato salvo em: C:\\Users\\Elaine\\Documents\\Python Scripts\\Automatizar Base Word\\Contratos Gerados\\nina_contrato.docx\n",
      "Contrato salvo em: C:\\Users\\Elaine\\Documents\\Python Scripts\\Automatizar Base Word\\Contratos Gerados\\cacau_contrato.docx\n",
      "Contrato salvo em: C:\\Users\\Elaine\\Documents\\Python Scripts\\Automatizar Base Word\\Contratos Gerados\\pipoca_contrato.docx\n",
      "Contrato salvo em: C:\\Users\\Elaine\\Documents\\Python Scripts\\Automatizar Base Word\\Contratos Gerados\\rex_contrato.docx\n",
      "Contrato salvo em: C:\\Users\\Elaine\\Documents\\Python Scripts\\Automatizar Base Word\\Contratos Gerados\\cookie_contrato.docx\n",
      "Contrato salvo em: C:\\Users\\Elaine\\Documents\\Python Scripts\\Automatizar Base Word\\Contratos Gerados\\simba_contrato.docx\n"
     ]
    }
   ],
   "source": [
    "# Diretório base\n",
    "base_dir = Path.cwd()\n",
    "\n",
    "# Caminho da base de dados do Excel\n",
    "excel_data_file_path = Path(r\"C:\\Users\\Elaine\\Documents\\Python Scripts\\Automatizar Base Word\\dados.xlsx\")\n",
    "\n",
    "# Caminho do template Word (.docx)\n",
    "word_template_file_path = Path(r\"C:\\Users\\Elaine\\Documents\\Python Scripts\\Automatizar Base Word\\CONTRATO DE RESPONSABILIDADE PARA CUIDADO DE ANIMAL DOMÉSTICO.docx\")\n",
    "\n",
    "# Pasta onde os contratos serão salvos\n",
    "output_dir = Path(r\"C:\\Users\\Elaine\\Documents\\Python Scripts\\Automatizar Base Word\\Contratos Gerados\")\n",
    "output_dir.mkdir(exist_ok=True)\n",
    "\n",
    "# Carregar a planilha Excel em um DataFrame\n",
    "dados = pd.read_excel(excel_data_file_path, sheet_name=\"Planilha1\")\n",
    "\n",
    "# Gerar um contrato para cada linha\n",
    "for record in dados.to_dict(orient=\"records\"):\n",
    "    doc = DocxTemplate(word_template_file_path)\n",
    "    doc.render(record)\n",
    "    \n",
    "    # Nome do arquivo de saída com o nome do cachorro\n",
    "    nome_arquivo = f\"{record['nome_cachorro'].strip().replace(' ', '_').lower()}_contrato.docx\"\n",
    "    output_path = output_dir / nome_arquivo\n",
    "\n",
    "    doc.save(output_path)\n",
    "    print(f\"Contrato salvo em: {output_path}\")\n"
   ]
  }
 ],
 "metadata": {
  "kernelspec": {
   "display_name": "base",
   "language": "python",
   "name": "python3"
  },
  "language_info": {
   "codemirror_mode": {
    "name": "ipython",
    "version": 3
   },
   "file_extension": ".py",
   "mimetype": "text/x-python",
   "name": "python",
   "nbconvert_exporter": "python",
   "pygments_lexer": "ipython3",
   "version": "3.12.7"
  }
 },
 "nbformat": 4,
 "nbformat_minor": 5
}
